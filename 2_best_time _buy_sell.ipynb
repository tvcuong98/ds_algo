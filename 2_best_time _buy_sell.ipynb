{
 "cells": [
  {
   "cell_type": "markdown",
   "metadata": {},
   "source": [
    "You are given an array prices where prices[i] is the price of a given stock on the ith day.\n",
    "\n",
    "You want to maximize your profit by choosing a single day to buy one stock and choosing a different day in the future to sell that stock.\n",
    "\n",
    "Return the maximum profit you can achieve from this transaction. If you cannot achieve any profit, return 0.\n",
    "\n",
    " \n",
    "\n",
    "Example 1:\n",
    "\n",
    "Input: prices = [7,1,5,3,6,4]\n",
    "Output: 5\n",
    "Explanation: Buy on day 2 (price = 1) and sell on day 5 (price = 6), profit = 6-1 = 5.\n",
    "Note that buying on day 2 and selling on day 1 is not allowed because you must buy before you sell.\n",
    "Example 2:\n",
    "\n",
    "Input: prices = [7,6,4,3,1]\n",
    "Output: 0\n",
    "Explanation: In this case, no transactions are done and the max profit = 0.\n",
    " \n",
    "\n",
    "Constraints:\n",
    "\n",
    "1 <= prices.length <= 10^5\n",
    "0 <= prices[i] <= 10^4"
   ]
  },
  {
   "cell_type": "code",
   "execution_count": null,
   "metadata": {},
   "outputs": [],
   "source": [
    "def max_profit(self,prices):\n",
    "    min_price = float('inf')\n",
    "    max_profit = 0\n",
    "\n",
    "    for i in range(len(prices)):\n",
    "        if prices[i] < min_price:  # Ensure we only update min_price if it occurs before i\n",
    "            min_price = prices[i] # tai vong lap nay, min price duoc cap nhat\n",
    "        elif prices[i] - min_price > max_profit:  # Check for profit after min_price , because elif meaning that after the latest loop where min price was update        \n",
    "            max_profit = prices[i] - min_price    # that it start looking for the max price that produce max profit\n",
    "            # in recap, it iterate through every element , constantly updating max_profit and min_price, \n",
    "            # so that even if after the final min_price there were no other day to produce a larger profit, it still use the previous calculated profit\n",
    "            # when it found a new min_price, it then start to find the max_profit from the following days\n",
    "    return max_profit"
   ]
  },
  {
   "cell_type": "markdown",
   "metadata": {},
   "source": [
    "This is the bad answer because it will return 0 even when we have a better "
   ]
  },
  {
   "cell_type": "code",
   "execution_count": null,
   "metadata": {},
   "outputs": [],
   "source": [
    "class Solution(object):\n",
    "    def maxProfit(self, prices):\n",
    "        \"\"\"\n",
    "        :type prices: List[int]\n",
    "        :rtype: int\n",
    "        \"\"\"\n",
    "        min_price_day = 0\n",
    "        min_price = 99999\n",
    "        for i,v in enumerate(prices):\n",
    "            if (v < min_price): \n",
    "                min_price = v\n",
    "                min_price_day = i\n",
    "        max_profit = 0\n",
    "        for i in range (min_price_day+1,len(prices)):\n",
    "            profit = prices[i] - min_price\n",
    "            if (profit > max_profit): max_profit = profit\n",
    "        return max_profit\n",
    "    "
   ]
  }
 ],
 "metadata": {
  "language_info": {
   "name": "python"
  }
 },
 "nbformat": 4,
 "nbformat_minor": 2
}
