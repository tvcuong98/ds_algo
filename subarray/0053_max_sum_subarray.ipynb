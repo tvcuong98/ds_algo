{
 "cells": [
  {
   "cell_type": "markdown",
   "metadata": {},
   "source": [
    "Given an integer array nums, find the \n",
    "subarray\n",
    " with the largest sum, and return its sum.\n",
    "\n",
    " \n",
    "\n",
    "Example 1:\n",
    "\n",
    "Input: nums = [-2,1,-3,4,-1,2,1,-5,4]\n",
    "Output: 6\n",
    "Explanation: The subarray [4,-1,2,1] has the largest sum 6.\n",
    "Example 2:\n",
    "\n",
    "Input: nums = [1]\n",
    "Output: 1\n",
    "Explanation: The subarray [1] has the largest sum 1.\n",
    "Example 3:\n",
    "\n",
    "Input: nums = [5,4,-1,7,8]\n",
    "Output: 23\n",
    "Explanation: The subarray [5,4,-1,7,8] has the largest sum 23.\n",
    " \n",
    "\n",
    "Constraints:\n",
    "\n",
    "1 <= nums.length <= 105\n",
    "-104 <= nums[i] <= 104\n",
    " \n",
    "\n",
    "Follow up: If you have figured out the O(n) solution, try coding another solution using the divide and conquer approach, which is more subtle."
   ]
  },
  {
   "cell_type": "markdown",
   "metadata": {},
   "source": [
    "Here is the fast version : This line is important : current_max = max(nums[i], current_max + nums[i]) \n",
    "Kadane algorithm"
   ]
  },
  {
   "cell_type": "markdown",
   "metadata": {},
   "source": [
    "Explain:\n",
    "Lets say that after a while we got a relatively long subarray that is currently the largest-sum array : a b c d \n",
    "Now we take another element e into this array , now it become a b c d e\n",
    "\n",
    "But, then we compare and saw that a+b+c+d+e < e itself !!!! So why dont we get rid of the guy a b c d and let just start on e ???\n",
    "Yeah, that is the intuition for this Kadane\n"
   ]
  },
  {
   "cell_type": "code",
   "execution_count": null,
   "metadata": {},
   "outputs": [],
   "source": [
    "class Solution(object):\n",
    "    def maxSubArray(self, nums):\n",
    "        max_so_far = nums[0]\n",
    "        current_max = nums[0]\n",
    "\n",
    "        for i in range(1, len(nums)):\n",
    "            current_max = max(nums[i], current_max + nums[i]) \n",
    "            # this is call Kadane algorithm, it choose value at idx i as the new starting point for the subarray !!!!!\n",
    "            max_so_far = max(max_so_far, current_max)\n",
    "\n",
    "        return max_so_far"
   ]
  },
  {
   "cell_type": "markdown",
   "metadata": {},
   "source": [
    "The solution below is very slow , I think it is O(n^2)"
   ]
  },
  {
   "cell_type": "code",
   "execution_count": null,
   "metadata": {},
   "outputs": [],
   "source": [
    "class Solution(object):\n",
    "    def maxSubArray(self, nums):\n",
    "        \"\"\"\n",
    "        :type nums: List[int]\n",
    "        :rtype: int\n",
    "        \"\"\"\n",
    "        len_nums = len(nums)\n",
    "        max_sum = -999\n",
    "        for i in range(len_nums):\n",
    "            sum = 0\n",
    "            for j in range(i,len_nums):\n",
    "                sum += nums[j]\n",
    "                if (sum > max_sum): max_sum = sum\n",
    "        return max_sum"
   ]
  }
 ],
 "metadata": {
  "language_info": {
   "name": "python"
  }
 },
 "nbformat": 4,
 "nbformat_minor": 2
}
