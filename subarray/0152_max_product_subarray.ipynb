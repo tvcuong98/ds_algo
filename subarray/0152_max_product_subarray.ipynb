{
 "cells": [
  {
   "cell_type": "markdown",
   "metadata": {},
   "source": [
    "Given an integer array nums, find a \n",
    "subarray\n",
    " that has the largest product, and return the product.\n",
    "\n",
    "The test cases are generated so that the answer will fit in a 32-bit integer.\n",
    "\n",
    " \n",
    "\n",
    "Example 1:\n",
    "\n",
    "Input: nums = [2,3,-2,4]\n",
    "Output: 6\n",
    "Explanation: [2,3] has the largest product 6.\n",
    "Example 2:\n",
    "\n",
    "Input: nums = [-2,0,-1]\n",
    "Output: 0\n",
    "Explanation: The result cannot be 2, because [-2,-1] is not a subarray.\n",
    " \n",
    "\n",
    "Constraints:\n",
    "\n",
    "1 <= nums.length <= 2 * 104\n",
    "-10 <= nums[i] <= 10\n",
    "The product of any prefix or suffix of nums is guaranteed to fit in a 32-bit integer."
   ]
  },
  {
   "cell_type": "markdown",
   "metadata": {},
   "source": [
    "Explaination:\n",
    "Understanding the Problem\n",
    "\n",
    "The challenge arises from negative numbers. A large negative number multiplied by another negative number might create a new potential maximum product. Therefore, we need to \n",
    "\n",
    "track both minimum and maximum products so far.\n",
    "\n",
    "Approach (Similar to Kadane's Algorithm)\n",
    "\n",
    "Initialization:\n",
    "\n",
    "current_max: The maximum product subarray ending at the current position.\n",
    "\n",
    "current_min: The minimum product subarray ending at the current position.\n",
    "\n",
    "max_so_far: The overall maximum product.\n",
    "\n",
    "Iteration:\n",
    "\n",
    "For each element nums[i] in the array:\n",
    "\n",
    "Calculate candidates for the new maximum and minimum:\n",
    "\n",
    "temp_max = max(nums[i], nums[i] * current_max, nums[i] * current_min)\n",
    "\n",
    "temp_min = min(nums[i], nums[i] * current_max, nums[i] * current_min)\n",
    "\n",
    "Update current_max and current_min:\n",
    "\n",
    "current_max = temp_max\n",
    "\n",
    "current_min = temp_min\n",
    "\n",
    "Update max_so_far if a new larger product is found:\n",
    "\n",
    "max_so_far = max(max_so_far, current_max)"
   ]
  },
  {
   "cell_type": "code",
   "execution_count": null,
   "metadata": {},
   "outputs": [],
   "source": [
    "class Solution(object):\n",
    "    def maxProduct(self, nums):\n",
    "        current_max = current_min = max_so_far = nums[0]\n",
    "\n",
    "        for num in nums[1:]:\n",
    "            temp_max = max(num, num * current_max, num * current_min)\n",
    "            temp_min = min(num, num * current_max, num * current_min)\n",
    "\n",
    "            current_max = temp_max\n",
    "            current_min = temp_min\n",
    "\n",
    "            max_so_far = max(max_so_far, current_max)\n",
    "\n",
    "        return max_so_far"
   ]
  },
  {
   "cell_type": "code",
   "execution_count": null,
   "metadata": {},
   "outputs": [],
   "source": []
  }
 ],
 "metadata": {
  "language_info": {
   "name": "python"
  }
 },
 "nbformat": 4,
 "nbformat_minor": 2
}
